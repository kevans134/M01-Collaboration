{
 "cells": [
  {
   "cell_type": "code",
   "execution_count": 1,
   "id": "b066ab5d",
   "metadata": {},
   "outputs": [
    {
     "name": "stdout",
     "output_type": "stream",
     "text": [
      "1999\n"
     ]
    }
   ],
   "source": [
    "#chapter 7\n",
    "year_list = [1996,1997,1998,1999,2000]\n",
    "# which year was your third birthday\n",
    "print(year_list[3])"
   ]
  },
  {
   "cell_type": "code",
   "execution_count": 5,
   "id": "2c352ba6",
   "metadata": {},
   "outputs": [
    {
     "name": "stdout",
     "output_type": "stream",
     "text": [
      "2000\n"
     ]
    }
   ],
   "source": [
    "#which year were you the oldest\n",
    "year_list = [1996,1997,1998,1999,2000]\n",
    "print(year_list[4])"
   ]
  },
  {
   "cell_type": "code",
   "execution_count": 10,
   "id": "d268a5a6",
   "metadata": {},
   "outputs": [
    {
     "name": "stdout",
     "output_type": "stream",
     "text": [
      "['mozzarella', 'Cinderella', 'salmonella']\n"
     ]
    }
   ],
   "source": [
    "#7.5 Capitalize the element that refers to a person\n",
    "things = [\"mozzarella\",\"cinderella\",\"salmonella\"]\n",
    "things[1] = things[1].capitalize()\n",
    "print(things)"
   ]
  },
  {
   "cell_type": "code",
   "execution_count": 15,
   "id": "17f3200b",
   "metadata": {},
   "outputs": [
    {
     "name": "stdout",
     "output_type": "stream",
     "text": [
      "['MOZZARELLA', 'Cinderella', 'salmonella']\n"
     ]
    }
   ],
   "source": [
    "#7.6 Make the cheesy element all uppercase\n",
    "things[0]=things[0].upper()\n",
    "print(things)"
   ]
  },
  {
   "cell_type": "code",
   "execution_count": 16,
   "id": "eeb95cb2",
   "metadata": {},
   "outputs": [
    {
     "name": "stdout",
     "output_type": "stream",
     "text": [
      "['MOZZARELLA', 'Cinderella']\n"
     ]
    }
   ],
   "source": [
    "#7.7 Delete the disease element\n",
    "things.remove(things[2])\n",
    "print(things)"
   ]
  },
  {
   "cell_type": "code",
   "execution_count": 17,
   "id": "d1164945",
   "metadata": {},
   "outputs": [],
   "source": [
    "# chapter 9\n",
    "#9.1 Define a function called good()\n",
    "def good():\n",
    "  list_1 = [\"Harry\", \"Ron\", \"Hermione\"]\n",
    "  return list_1"
   ]
  },
  {
   "cell_type": "code",
   "execution_count": 19,
   "id": "3ed2aaa2",
   "metadata": {},
   "outputs": [
    {
     "name": "stdout",
     "output_type": "stream",
     "text": [
      "5\n"
     ]
    }
   ],
   "source": [
    "#9.2 Define a generator function called get_odds() that returns the odd numbers from range(10).\n",
    "def get_odds():\n",
    "    for number in range(10):\n",
    "        if num % 2 != 0:\n",
    "            yield number\n",
    "count = 0\n",
    "for number in get_odds():\n",
    "    if count == 2:\n",
    "        print(number)\n",
    "        break\n",
    "    count += 1"
   ]
  },
  {
   "cell_type": "code",
   "execution_count": null,
   "id": "54b92b12",
   "metadata": {},
   "outputs": [],
   "source": []
  }
 ],
 "metadata": {
  "kernelspec": {
   "display_name": "Python 3 (ipykernel)",
   "language": "python",
   "name": "python3"
  },
  "language_info": {
   "codemirror_mode": {
    "name": "ipython",
    "version": 3
   },
   "file_extension": ".py",
   "mimetype": "text/x-python",
   "name": "python",
   "nbconvert_exporter": "python",
   "pygments_lexer": "ipython3",
   "version": "3.9.13"
  }
 },
 "nbformat": 4,
 "nbformat_minor": 5
}
