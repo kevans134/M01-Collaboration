{
 "cells": [
  {
   "cell_type": "code",
   "execution_count": 6,
   "id": "4e5a38f4",
   "metadata": {},
   "outputs": [
    {
     "ename": "SyntaxError",
     "evalue": "invalid syntax (1951647886.py, line 7)",
     "output_type": "error",
     "traceback": [
      "\u001b[1;36m  File \u001b[1;32m\"C:\\Users\\wwwki\\AppData\\Local\\Temp\\ipykernel_18772\\1951647886.py\"\u001b[1;36m, line \u001b[1;32m7\u001b[0m\n\u001b[1;33m    `def __init__(item,types,year,make,model,doors,roof):\u001b[0m\n\u001b[1;37m    ^\u001b[0m\n\u001b[1;31mSyntaxError\u001b[0m\u001b[1;31m:\u001b[0m invalid syntax\n"
     ]
    }
   ],
   "source": [
    "#keShaundra Evans\n",
    "# file named M03_Case Study\n",
    "#Write a Python app that stored user information on vehicle then print the information.\n",
    "#Create class called vehicle\n",
    "class Vehicle:\n",
    "    def __init__(item,type):  \n",
    "        item.type=type\n",
    "# adding a sub class called automoblie\n",
    "class Automobile(Vehicle):\n",
    "    `def __init__(item,type,year,make,model,doors,roof):\n",
    "        super().__init__(type)\n",
    "        item.year=year\n",
    "        item.make=make\n",
    "        item.model=model\n",
    "        item.doors=doors\n",
    "        item.roof=roof\n",
    "#user can enter their vehicle information\n",
    "type_i=input(\"Type of vehicle :\")\n",
    "year_i=input(\"Enter the year :\")\n",
    "make_i=input(\"Enter who manufacture :\")\n",
    "model_i=input(\"Enter the model :\")\n",
    "doors_i=input(\"Enter the number of doors(2 or 4) :\")\n",
    "roof_i=input(\"solid or sun roof :\")\n",
    "Auto=Automobile(type_i,year_i,make_i,model_i,doors_i,roof_i) \n",
    "# then print the details\n",
    "print(\"\\nVehicle Type :\"+Auto.type)\n",
    "print(\"\\nYear :\"+Auto.year)\n",
    "print(\"\\nMake :\"+Auto.make)\n",
    "print(\"\\nModel :\"+Auto.model)\n",
    "print(\"\\nNo of doors :\"+Auto.doors)\n",
    "print(\"\\nType of roof :\"+Auto.roof)"
   ]
  },
  {
   "cell_type": "code",
   "execution_count": null,
   "id": "1fa95924",
   "metadata": {},
   "outputs": [],
   "source": []
  },
  {
   "cell_type": "code",
   "execution_count": null,
   "id": "0a5f20cb",
   "metadata": {},
   "outputs": [],
   "source": []
  },
  {
   "cell_type": "code",
   "execution_count": null,
   "id": "7ab7d377",
   "metadata": {},
   "outputs": [],
   "source": []
  }
 ],
 "metadata": {
  "kernelspec": {
   "display_name": "Python 3 (ipykernel)",
   "language": "python",
   "name": "python3"
  },
  "language_info": {
   "codemirror_mode": {
    "name": "ipython",
    "version": 3
   },
   "file_extension": ".py",
   "mimetype": "text/x-python",
   "name": "python",
   "nbconvert_exporter": "python",
   "pygments_lexer": "ipython3",
   "version": "3.9.13"
  }
 },
 "nbformat": 4,
 "nbformat_minor": 5
}
