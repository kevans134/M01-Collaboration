{
 "cells": [
  {
   "cell_type": "code",
   "execution_count": null,
   "id": "9faf509a",
   "metadata": {},
   "outputs": [],
   "source": [
    "#KeShaundra Evans\n",
    "#Date 1/29/2023\n",
    "#An app that decides whether or not a student made Dean List or Honor roll.\n",
    "# student must enter their name\n",
    "student_name = input(\"Enter Student name:\")\n",
    "# type zzz to exit the program.\n",
    "while student_name != \"zzz\":\n",
    "#enter student gpa.\n",
    "    gpa = float(input(\"Enter Student gpa:\"))\n",
    "    if gpa >= 3.5:\n",
    "        print (student_name +\"\"+ \"made the Dean list\")\n",
    "    else:\n",
    "        if gpa >= 3.25:\n",
    "            print(student_name +\"\"+\"made Honor roll\")\n",
    "    \n",
    "            "
   ]
  },
  {
   "cell_type": "code",
   "execution_count": null,
   "id": "30d554c2",
   "metadata": {},
   "outputs": [],
   "source": []
  },
  {
   "cell_type": "code",
   "execution_count": null,
   "id": "c68b3d8f",
   "metadata": {},
   "outputs": [],
   "source": []
  },
  {
   "cell_type": "code",
   "execution_count": null,
   "id": "5a140fb4",
   "metadata": {},
   "outputs": [],
   "source": []
  },
  {
   "cell_type": "code",
   "execution_count": null,
   "id": "dd4796ff",
   "metadata": {},
   "outputs": [],
   "source": []
  }
 ],
 "metadata": {
  "kernelspec": {
   "display_name": "Python 3 (ipykernel)",
   "language": "python",
   "name": "python3"
  },
  "language_info": {
   "codemirror_mode": {
    "name": "ipython",
    "version": 3
   },
   "file_extension": ".py",
   "mimetype": "text/x-python",
   "name": "python",
   "nbconvert_exporter": "python",
   "pygments_lexer": "ipython3",
   "version": "3.9.13"
  }
 },
 "nbformat": 4,
 "nbformat_minor": 5
}
