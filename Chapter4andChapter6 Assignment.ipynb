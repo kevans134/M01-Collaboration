{
 "cells": [
  {
   "cell_type": "code",
   "execution_count": 1,
   "id": "ce2510b4",
   "metadata": {},
   "outputs": [
    {
     "name": "stdout",
     "output_type": "stream",
     "text": [
      "too low\n"
     ]
    }
   ],
   "source": [
    "# name the variables\n",
    "# 4.1\n",
    "secret = 5\n",
    "guess = 3\n",
    "# if the number is too low.\n",
    "if guess < secret:\n",
    "    print(\"too low\")\n",
    "#if the number is too low.\n",
    "elif guess > secret:\n",
    "    print(\"too high\")\n",
    "else:\n",
    "#if the numbers are equal to each other.\n",
    "    if guess == sercet:\n",
    "        print(\"just right\")"
   ]
  },
  {
   "cell_type": "code",
   "execution_count": 2,
   "id": "9ff0a496",
   "metadata": {},
   "outputs": [
    {
     "name": "stdout",
     "output_type": "stream",
     "text": [
      "cherry\n"
     ]
    }
   ],
   "source": [
    "#4.2\n",
    "#Assign True or False to the variables small and green.\n",
    "small = True\n",
    "green = False\n",
    "if small:\n",
    "    if green:\n",
    "        print(\"pea\")\n",
    "    else:\n",
    "        print(\"cherry\")\n",
    "elif green:\n",
    "    print(\"watermelon\")\n",
    "else:\n",
    "    print(\"pumpkin\")"
   ]
  },
  {
   "cell_type": "code",
   "execution_count": null,
   "id": "b3ea327f",
   "metadata": {},
   "outputs": [],
   "source": [
    "#chapter 6\n",
    "# 6.1\n",
    "for value in [3,2,1,0]:\n",
    "#6.2\n",
    "    guess_me = 7\n",
    "number = 1\n",
    "while True:\n",
    "    if number < guess_me:\n",
    "        print(\"too low\")\n",
    "    elif number == guess_me:\n",
    "        print(\"found it!\")\n",
    "    else:\n",
    "        if number > guess_me:\n",
    "            print(\"oops\")\n",
    "            break\n",
    "        number += 1\n",
    "#6.3\n",
    "        guess_me = 5\n",
    "        for number in range(10):\n",
    "            if number < guess_me:\n",
    "                print(\"too low\")\n",
    "            elif number == guess_me:\n",
    "                print(\"found it!\")\n",
    "                break\n",
    "            else:\n",
    "                if number > guess_me:\n",
    "                    print(\"oops\")\n",
    "                    \n",
    "                    "
   ]
  },
  {
   "cell_type": "code",
   "execution_count": null,
   "id": "81d583da",
   "metadata": {},
   "outputs": [],
   "source": []
  }
 ],
 "metadata": {
  "kernelspec": {
   "display_name": "Python 3 (ipykernel)",
   "language": "python",
   "name": "python3"
  },
  "language_info": {
   "codemirror_mode": {
    "name": "ipython",
    "version": 3
   },
   "file_extension": ".py",
   "mimetype": "text/x-python",
   "name": "python",
   "nbconvert_exporter": "python",
   "pygments_lexer": "ipython3",
   "version": "3.9.13"
  }
 },
 "nbformat": 4,
 "nbformat_minor": 5
}
