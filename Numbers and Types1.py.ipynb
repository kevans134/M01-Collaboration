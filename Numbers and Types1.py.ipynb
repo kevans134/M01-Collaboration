{
 "cells": [
  {
   "cell_type": "code",
   "execution_count": 2,
   "id": "53b675bb",
   "metadata": {},
   "outputs": [
    {
     "name": "stdout",
     "output_type": "stream",
     "text": [
      "seconds_per_hour= 3600\n"
     ]
    }
   ],
   "source": [
    "1*60*60\n",
    "print(\"seconds_per_hour=\",1*60*60)\n",
    "\n"
   ]
  },
  {
   "cell_type": "code",
   "execution_count": 21,
   "id": "778cfe11",
   "metadata": {},
   "outputs": [
    {
     "ename": "SyntaxError",
     "evalue": "invalid syntax (4237810322.py, line 3)",
     "output_type": "error",
     "traceback": [
      "\u001b[1;36m  File \u001b[1;32m\"C:\\Users\\wwwki\\AppData\\Local\\Temp\\ipykernel_20580\\4237810322.py\"\u001b[1;36m, line \u001b[1;32m3\u001b[0m\n\u001b[1;33m    the number of second a day= 24*3600\u001b[0m\n\u001b[1;37m        ^\u001b[0m\n\u001b[1;31mSyntaxError\u001b[0m\u001b[1;31m:\u001b[0m invalid syntax\n"
     ]
    }
   ],
   "source": [
    "hours_per_day = 24 \n",
    "seconds_per_hour= 3600\n",
    "the number of second a day= 24*3600\n",
    "print(\"Sum =\",the number of second a day)"
   ]
  },
  {
   "cell_type": "code",
   "execution_count": 15,
   "id": "9896b083",
   "metadata": {},
   "outputs": [
    {
     "name": "stdout",
     "output_type": "stream",
     "text": [
      "Sum = 86400\n"
     ]
    }
   ],
   "source": [
    "hours_per_day = 24\n",
    "seconds_per_hour= 3600\n",
    "seconds_per_day = 24*3600\n",
    "print(\"Sum =\",seconds_per_day)"
   ]
  },
  {
   "cell_type": "code",
   "execution_count": 20,
   "id": "6ac47371",
   "metadata": {},
   "outputs": [
    {
     "ename": "SyntaxError",
     "evalue": "invalid syntax (2256755214.py, line 5)",
     "output_type": "error",
     "traceback": [
      "\u001b[1;36m  File \u001b[1;32m\"C:\\Users\\wwwki\\AppData\\Local\\Temp\\ipykernel_20580\\2256755214.py\"\u001b[1;36m, line \u001b[1;32m5\u001b[0m\n\u001b[1;33m    if seconds_per_day/seconds_per_hour = results\u001b[0m\n\u001b[1;37m                                        ^\u001b[0m\n\u001b[1;31mSyntaxError\u001b[0m\u001b[1;31m:\u001b[0m invalid syntax\n"
     ]
    }
   ],
   "source": [
    "hours_per_day = 24\n",
    "seconds_per_hour = 3600\n",
    "seconds_per_day = 24*3600\n",
    "print(\"Sum =\",seconds_per_day)\n",
    "if seconds_per_day/seconds_per_hour = results\n",
    "print(\"Sum =\",results)"
   ]
  },
  {
   "cell_type": "code",
   "execution_count": 22,
   "id": "da9408b9",
   "metadata": {},
   "outputs": [
    {
     "ename": "SyntaxError",
     "evalue": "invalid syntax (2599393938.py, line 5)",
     "output_type": "error",
     "traceback": [
      "\u001b[1;36m  File \u001b[1;32m\"C:\\Users\\wwwki\\AppData\\Local\\Temp\\ipykernel_20580\\2599393938.py\"\u001b[1;36m, line \u001b[1;32m5\u001b[0m\n\u001b[1;33m    if seconds_per_day//seconds_per_hour = results\u001b[0m\n\u001b[1;37m                                         ^\u001b[0m\n\u001b[1;31mSyntaxError\u001b[0m\u001b[1;31m:\u001b[0m invalid syntax\n"
     ]
    }
   ],
   "source": [
    "hours_per_day = 24\n",
    "seconds_per_hour = 3600\n",
    "seconds_per_day = 24*3600\n",
    "print(\"Sum =\",seconds_per_day)\n",
    "if seconds_per_day//seconds_per_hour = results\n",
    "print(\"Sum =\",results)"
   ]
  },
  {
   "cell_type": "code",
   "execution_count": null,
   "id": "8b3bd239",
   "metadata": {},
   "outputs": [],
   "source": []
  }
 ],
 "metadata": {
  "kernelspec": {
   "display_name": "Python 3 (ipykernel)",
   "language": "python",
   "name": "python3"
  },
  "language_info": {
   "codemirror_mode": {
    "name": "ipython",
    "version": 3
   },
   "file_extension": ".py",
   "mimetype": "text/x-python",
   "name": "python",
   "nbconvert_exporter": "python",
   "pygments_lexer": "ipython3",
   "version": "3.9.13"
  }
 },
 "nbformat": 4,
 "nbformat_minor": 5
}
